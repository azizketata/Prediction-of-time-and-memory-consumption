{
 "cells": [
  {
   "cell_type": "code",
   "execution_count": 9,
   "id": "9b122d3c",
   "metadata": {},
   "outputs": [
    {
     "name": "stdout",
     "output_type": "stream",
     "text": [
      "Predicted memory consumption: [0.2651751]\n",
      "Actual memory consumption: 0\n",
      "Predicted execution time: None\n",
      "Actual execution time: 0.0\n"
     ]
    }
   ],
   "source": [
    "import argparse\n",
    "import time\n",
    "import os\n",
    "import psutil\n",
    "import numpy as np\n",
    "from Prediction_model import model, poly\n",
    "\n",
    "# get memory usage\n",
    "def get_memory_usage():\n",
    "    process = psutil.Process(os.getpid())\n",
    "    return process.memory_info().rss\n",
    "\n",
    "# TO DO : code to run the benchmark \n",
    "def run_application(arg1, arg2, arg3):\n",
    "    # Replace this function with the actual function that runs your application\n",
    "    # and returns the execution time\n",
    "    pass\n",
    "\n",
    "def main(arg1, arg2, arg3):\n",
    "    # Make a prediction for memory consumption\n",
    "    input_data = np.array([[arg1, arg2, arg3]])\n",
    "    input_data_poly = poly.transform(input_data)\n",
    "    predicted_memory = model.predict(input_data_poly)\n",
    "\n",
    "    # Record the initial memory usage\n",
    "    initial_memory = get_memory_usage()\n",
    "\n",
    "    # Record the start time\n",
    "    start_time = time.time()\n",
    "\n",
    "    # Run the application and measure the execution time\n",
    "    execution_time = run_application(arg1, arg2, arg3)\n",
    "\n",
    "    # Record the end time and calculate the actual execution time\n",
    "    end_time = time.time()\n",
    "    actual_execution_time = end_time - start_time\n",
    "\n",
    "    # Record the final memory usage and calculate the actual memory consumption\n",
    "    final_memory = get_memory_usage()\n",
    "    actual_memory_consumption = final_memory - initial_memory\n",
    "\n",
    "    # Print the results\n",
    "    print(f\"Predicted memory consumption: {predicted_memory}\")\n",
    "    print(f\"Actual memory consumption: {actual_memory_consumption}\")\n",
    "    print(f\"Predicted execution time: {execution_time}\")\n",
    "    print(f\"Actual execution time: {actual_execution_time}\")\n",
    "# main function\n",
    "\"\"\"\n",
    "if __name__ == \"__main__\":\n",
    "    # Use argparse to handle command-line arguments\n",
    "    parser = argparse.ArgumentParser(description=\"Run application and compare predicted and actual memory and time consumption.\")\n",
    "    parser.add_argument(\"arg1\", type=int, help=\"Argument 1\")\n",
    "    parser.add_argument(\"arg2\", type=int, help=\"Argument 2\")\n",
    "    parser.add_argument(\"arg3\", type=int, help=\"Argument 3\")\n",
    "    args = parser.parse_args()\n",
    "    # Call the main function with the input arguments\n",
    "    main(args.arg1, args.arg2, args.arg3)\n",
    "\"\"\"\n",
    "# Call the main function with the input arguments\n",
    "arg1_value = 10  # Replace this with the appropriate value for arg1\n",
    "arg2_value = 20  # Replace this with the appropriate value for arg2\n",
    "arg3_value = 30  # Replace this with the appropriate value for arg3\n",
    "main(arg1_value, arg2_value, arg3_value)"
   ]
  },
  {
   "cell_type": "code",
   "execution_count": null,
   "id": "84b2a69e",
   "metadata": {},
   "outputs": [],
   "source": []
  }
 ],
 "metadata": {
  "kernelspec": {
   "display_name": "Python 3 (ipykernel)",
   "language": "python",
   "name": "python3"
  },
  "language_info": {
   "codemirror_mode": {
    "name": "ipython",
    "version": 3
   },
   "file_extension": ".py",
   "mimetype": "text/x-python",
   "name": "python",
   "nbconvert_exporter": "python",
   "pygments_lexer": "ipython3",
   "version": "3.9.13"
  }
 },
 "nbformat": 4,
 "nbformat_minor": 5
}
